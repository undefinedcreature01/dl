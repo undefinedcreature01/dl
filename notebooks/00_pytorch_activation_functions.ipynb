{
 "cells": [
  {
   "cell_type": "markdown",
   "metadata": {},
   "source": [
    "# Activation functions"
   ]
  },
  {
   "cell_type": "markdown",
   "metadata": {},
   "source": [
    "\n",
    "- x : the summed up weighted input\n"
   ]
  },
  {
   "cell_type": "code",
   "execution_count": 20,
   "metadata": {},
   "outputs": [
    {
     "name": "stdout",
     "output_type": "stream",
     "text": [
      "2.2.0\n"
     ]
    }
   ],
   "source": [
    "import torch\n",
    "import numpy as np\n",
    "import matplotlib.pyplot as plt \n",
    "\n",
    "print(torch.__version__)"
   ]
  },
  {
   "cell_type": "markdown",
   "metadata": {},
   "source": [
    "# Binary step function\n",
    "\n",
    "This is threshold-based activation function. When the summed weighted inputs are sent to it, it either activates/fires the node (passing on its output) if threshold value is reached/surpassed, or it disregrads the input if the value is lower. \n",
    "\n",
    "Because this is a linear piecewise (diffrent based on interval) function it generally isn't used in the hidden layers of a network. It usually appears only in the output layer of a binary classification model \n",
    "(is this a dog or a cat  ?) \n",
    "\n",
    "$$ f(x) = \\begin{cases} 0 & \\text{if } x < \\theta \\\\ 1 & \\text{if } x \\geq \\theta \\end{cases} $$\n",
    "\n",
    "in this case 0 is the treshold the input(x) has to reach in order for "
   ]
  },
  {
   "cell_type": "code",
   "execution_count": 5,
   "metadata": {},
   "outputs": [],
   "source": [
    "def AF_binary_step(x, trenshold):\n",
    "    if x >= trenshold: \n",
    "        return 1\n",
    "    \n",
    "    return 0"
   ]
  },
  {
   "cell_type": "markdown",
   "metadata": {},
   "source": [
    "So lets say we are trying to figure out weather there is a dog or a cat on a picture. If the model predicted a value between 0 and 0.5 there is a dog, if the predicted valze is between 0.51 and 1 then there is a cat.\n",
    "\n",
    "The output layer node reacives the value 0.7. And then calls its activation function (being binary step in this case). \n"
   ]
  },
  {
   "cell_type": "code",
   "execution_count": 9,
   "metadata": {},
   "outputs": [
    {
     "data": {
      "text/plain": [
       "1"
      ]
     },
     "execution_count": 9,
     "metadata": {},
     "output_type": "execute_result"
    }
   ],
   "source": [
    "node_input = 0.7\n",
    "model_treshold = 0.5\n",
    "\n",
    "AF_binary_step(x=node_input, trenshold=model_treshold)"
   ]
  },
  {
   "cell_type": "markdown",
   "metadata": {},
   "source": [
    "The output of a model is 1, meaning there was a cat on the image.\n",
    "\n",
    "Lets visualize it."
   ]
  },
  {
   "cell_type": "code",
   "execution_count": 30,
   "metadata": {},
   "outputs": [
    {
     "data": {
      "image/png": "[encoded data removed]",
      "text/plain": [
       "<Figure size 640x480 with 1 Axes>"
      ]
     },
     "metadata": {},
     "output_type": "display_data"
    }
   ],
   "source": [
    "import torch\n",
    "import matplotlib.pyplot as plt \n",
    "\n",
    "# array of 100 values from 0 to 1\n",
    "x_axis = torch.linspace(0,1, 100)\n",
    "\n",
    "treshold = 0.5\n",
    "\n",
    "# mapped values ; what we get when we put an x into out function\n",
    "y_axis = []\n",
    "\n",
    "# for each x value we want to map - we run the function\n",
    "for x in x_axis:\n",
    "    y_axis.append(AF_binary_step(x, trenshold=treshold))\n",
    "\n",
    "# draw\n",
    "plt.plot(x_axis, y_axis)\n",
    "plt.show()"
   ]
  },
  {
   "cell_type": "markdown",
   "metadata": {},
   "source": []
  }
 ],
 "metadata": {
  "kernelspec": {
   "display_name": "pytorch",
   "language": "python",
   "name": "python3"
  },
  "language_info": {
   "codemirror_mode": {
    "name": "ipython",
    "version": 3
   },
   "file_extension": ".py",
   "mimetype": "text/x-python",
   "name": "python",
   "nbconvert_exporter": "python",
   "pygments_lexer": "ipython3",
   "version": "3.11.5"
  }
 },
 "nbformat": 4,
 "nbformat_minor": 2
}
