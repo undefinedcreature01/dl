{
 "cells": [
  {
   "cell_type": "code",
   "execution_count": 28,
   "metadata": {},
   "outputs": [],
   "source": [
    "import numpy as np\n",
    "import matplotlib.pyplot as plt"
   ]
  },
  {
   "cell_type": "markdown",
   "metadata": {},
   "source": [
    "# Loss functions"
   ]
  },
  {
   "cell_type": "markdown",
   "metadata": {},
   "source": [
    "## Mean Square Error - Quadratic Loss - L2"
   ]
  },
  {
   "cell_type": "code",
   "execution_count": 67,
   "metadata": {},
   "outputs": [],
   "source": [
    "def MSE(truth, prediction):\n",
    "    return np.mean(truth - prediction)**2"
   ]
  },
  {
   "cell_type": "code",
   "execution_count": null,
   "metadata": {},
   "outputs": [],
   "source": []
  },
  {
   "cell_type": "code",
   "execution_count": null,
   "metadata": {},
   "outputs": [],
   "source": []
  },
  {
   "cell_type": "markdown",
   "metadata": {},
   "source": [
    "## Mean Absolute Error - L1"
   ]
  },
  {
   "cell_type": "markdown",
   "metadata": {},
   "source": [
    "## Binary cross-entropy - Log loss"
   ]
  },
  {
   "cell_type": "code",
   "execution_count": 40,
   "metadata": {},
   "outputs": [],
   "source": [
    "def BCE(truth, prediction):\n",
    "        return -np.mean(truth * np.log(prediction) + (1 - truth) * np.log(1 - prediction))"
   ]
  },
  {
   "cell_type": "code",
   "execution_count": 34,
   "metadata": {},
   "outputs": [
    {
     "name": "stdout",
     "output_type": "stream",
     "text": [
      "Loss with BAD predictions: 1.3215301373063597\n",
      "Loss with GOOD predictions: 0.12891712278910297\n"
     ]
    }
   ],
   "source": [
    "# Example usage:\n",
    "training_dataset = np.array([0, 1, 1, 0, 1])\n",
    "\n",
    "bad_predictions = np.array([0.9, 0.3, 0.5, 0.1, 0.1])\n",
    "good_predictitons = np.array([0.1, 0.9, 0.8, 0.1, 0.9])\n",
    "\n",
    "print(\"Loss with BAD predictions:\", BCE(training_dataset, bad_predictions))\n",
    "print(\"Loss with GOOD predictions:\", BCE(training_dataset, good_predictitons))"
   ]
  },
  {
   "cell_type": "markdown",
   "metadata": {},
   "source": [
    "- graph when truth is always 1 ; $ T $ = 1"
   ]
  },
  {
   "cell_type": "code",
   "execution_count": 31,
   "metadata": {},
   "outputs": [
    {
     "data": {
      "image/png": "[encoded data removed]",
      "text/plain": [
       "<Figure size 640x480 with 1 Axes>"
      ]
     },
     "metadata": {},
     "output_type": "display_data"
    }
   ],
   "source": [
    "#values from 0.1 to 0.99.. (all possible predictions)\n",
    "predictions = np.linspace(0.01, 0.99, 100) \n",
    "\n",
    "#all ones - truth is always 1\n",
    "truth_labels = np.ones_like(predictions)\n",
    "\n",
    "loss_for_each_prediction = []\n",
    "\n",
    "for truth,prediction in zip(truth_labels, predictions):\n",
    "    loss_for_each_prediction.append(BCE(truth, prediction)) \n",
    "\n",
    "plt.plot(predictions, loss_for_each_prediction)\n",
    "plt.draw()"
   ]
  },
  {
   "cell_type": "markdown",
   "metadata": {},
   "source": [
    "## Categorical Cross-Entropy - Softmax loss"
   ]
  },
  {
   "cell_type": "code",
   "execution_count": 60,
   "metadata": {},
   "outputs": [],
   "source": [
    "#truth_labels is a vector - so are the predictions ; the get the average\n",
    "def CCE(truth_labels, predictions):\n",
    "    return -np.sum(truth_labels * np.log(predictions)) / len(truth_labels)\n"
   ]
  },
  {
   "cell_type": "code",
   "execution_count": 64,
   "metadata": {},
   "outputs": [
    {
     "name": "stdout",
     "output_type": "stream",
     "text": [
      "Loss with BAD predictions: 0.7675283643313485\n",
      "Loss with GOOOD predictions: 0.035120171885942096\n"
     ]
    }
   ],
   "source": [
    "# Example usage ; 3 classes\n",
    "\n",
    "bad_sample = { 'truth': [0,1,0], 'prediction':[0.3, 0.1,0.8] } # bad\n",
    "good_sample = {'truth': [1, 0, 0], 'prediction': [0.9, 0.1, 0.2]} # good\n",
    "\n",
    "print(\"Loss with BAD predictions:\", CCE(\n",
    "    truth_labels=np.array(bad_sample['truth']), \n",
    "    predictions= np.array(bad_sample['prediction'])) \n",
    "    )\n",
    "\n",
    "print(\"Loss with GOOOD predictions:\", CCE(\n",
    "    truth_labels=np.array(good_sample['truth']), \n",
    "    predictions=np.array(good_sample['prediction']))\n",
    "    )"
   ]
  }
 ],
 "metadata": {
  "kernelspec": {
   "display_name": "pytorch",
   "language": "python",
   "name": "python3"
  },
  "language_info": {
   "codemirror_mode": {
    "name": "ipython",
    "version": 3
   },
   "file_extension": ".py",
   "mimetype": "text/x-python",
   "name": "python",
   "nbconvert_exporter": "python",
   "pygments_lexer": "ipython3",
   "version": "3.11.5"
  }
 },
 "nbformat": 4,
 "nbformat_minor": 2
}
