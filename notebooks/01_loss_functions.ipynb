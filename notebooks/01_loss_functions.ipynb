{
 "cells": [
  {
   "cell_type": "code",
   "execution_count": 2,
   "metadata": {},
   "outputs": [],
   "source": [
    "import numpy as np\n",
    "import matplotlib.pyplot as plt"
   ]
  },
  {
   "cell_type": "markdown",
   "metadata": {},
   "source": [
    "# Loss functions"
   ]
  },
  {
   "cell_type": "markdown",
   "metadata": {},
   "source": [
    "## Mean Squared Error (MSE) - L2/Quadratic Loss\n",
    "\n",
    "> commonly used in regression tasks (ie. linear graphs)\n",
    "\n",
    "We calculate the mean (average) of the squared difference between each prediction and the desired ouput. Wrong predictions are punished more because the error is squared (so if the difference is big - it squared is even bigger)\n",
    "\n",
    "$$MSE(T_i, p_i) = \\frac{1}{n} \\sum_{i=1}^{n} (T_i - p_i)^2$$\n",
    "\n",
    "So a loss for each example/pair of label - prediction is :\n",
    "\n",
    "$$MSE(truth, prediction) = (truth - prediction)^2$$"
   ]
  },
  {
   "cell_type": "code",
   "execution_count": 29,
   "metadata": {},
   "outputs": [],
   "source": [
    "def MSE(truth, prediction):\n",
    "    return np.mean(truth - prediction)**2"
   ]
  },
  {
   "cell_type": "code",
   "execution_count": 42,
   "metadata": {},
   "outputs": [],
   "source": [
    "#Example usage:"
   ]
  },
  {
   "cell_type": "code",
   "execution_count": 41,
   "metadata": {},
   "outputs": [],
   "source": [
    "predictions = np.linspace(-100, 100, 100) \n",
    "\n",
    "#all ones - truth is always 1\n",
    "truth_labels = np.ones_like(predictions)\n",
    "\n",
    "loss_for_each_prediction = []\n",
    "\n",
    "for truth,prediction in zip(truth_labels, predictions):\n",
    "    loss_for_each_prediction.append(MSE(truth, prediction)) "
   ]
  },
  {
   "cell_type": "code",
   "execution_count": 40,
   "metadata": {},
   "outputs": [
    {
     "data": {
      "image/png": "[encoded data removed]",
      "text/plain": [
       "<Figure size 640x480 with 1 Axes>"
      ]
     },
     "metadata": {},
     "output_type": "display_data"
    }
   ],
   "source": [
    "plt.plot(predictions, loss_for_each_prediction)\n",
    "plt.draw()"
   ]
  },
  {
   "cell_type": "markdown",
   "metadata": {},
   "source": [
    "## Mean Absolute Error - L1"
   ]
  },
  {
   "cell_type": "markdown",
   "metadata": {},
   "source": [
    "## Cross-Entropy  \n",
    "> commonly used in classification tasks\n",
    "\n",
    "This is used when we are \"guessing\" if something belongs in a certain class or not. \n",
    "\n",
    "So the question is \"how sure are you that the instance belong in (x) class ?\" - and generally the asnwers are between 0 and 1 (like procenteges are between 0% and 100%). So if im very sure i'd say 99% - which as a prediction would map to 0.99 \n",
    "\n",
    ">(this is what activation functions do - take in some input and output it in a useful way).\n",
    "\n",
    "| |   |\n",
    "|---|---|\n",
    "| $C$ | often used as number of classes |\n",
    "| |   |\n",
    "\n",
    "Logarithm (log) is a function sensitive to differences. What that means is that it will react greatly weather a prediction is 0.1 or 0.9. \n",
    "\n",
    "$log(0.1)≈$ (big loss)\n",
    "\n",
    "$log⁡(0.9)≈ $ (small loss)\n",
    "\n",
    "Since in cross-entropy the final loss is the sum of all losses (divided by the number of samples) we want those losses to be as small as possible - meaning whatever is sent to the log function should be a high value.\n",
    "\n",
    "> When the number of classes is more than two(binary classification) it is a multi-class classification.\n"
   ]
  },
  {
   "cell_type": "markdown",
   "metadata": {},
   "source": [
    "### Binary Cross-Entropy (BCE) - Log loss\n",
    "> commonly used in binary classification tasks (1 or 0 ?)\n",
    "\n",
    "$C' = 2$, where : $C_1 = 1$ and $C_2 = 0$ \n",
    "\n",
    "| |   |\n",
    "|---|---|\n",
    "| positive class | arbitrary.. (usually just 1), the \"more significant\" class ; this is what the model is referencing    |\n",
    "| negative class | the other class (usually 0)  |\n",
    "| |   |\n",
    "\n",
    "Here when asking the question \"how sure are you that the instance belong in (x) class ?\" the x class is the positive class, if we don't we run into a small problem.\n",
    "\n",
    "> \"how sure are you that the instance belongs in **class 1** ?\"\n",
    "<br> - very! 99% \n",
    "<br>\"how sure are you that this new instance belongs in **class 0** ?\" \n",
    "<br> - highly ! 89% !\n",
    "\n",
    "What is the problem here ?\n",
    "\n",
    "So for the sake of easier understanding let's say we are predicting weather there is a cat(1) or a dog(0) on an image.\n",
    "\n",
    "We give a model a picture and it returns 0.9. What does that tell us ? Nothing because this picture doesn't have a label yet (this is what the model is for). We don't know what is on the picture so how could we ask a question in the format of \"how sure are you that the instance belongs in (x) class ?\".\n",
    "\n",
    "\"So just pick a class and let the model reference it when asnwering!\" Bingo.\n",
    "\n",
    "This is where we bring in the term positive class. The referenced class.\n",
    "\n",
    "Let's say we pick cat as the positive class. This means the models predictions will answer the question \"how sure are you that this new instance is a cat ?\"\n",
    "\n",
    "The model would return something like 0.9 if it thinks there is a cat. But if it thinks there is a dog(so it is like 5% sure there is a cat there) the returned value would be 0.05 (lower value because it doesn't think the sample belongs into the positive class)\n",
    "\n",
    ">but if we flip it so dog(0) is the positive class then the model will predict 0.7 if it thinks it there a dog and 0.1 if it thinks there is a cat (because the positive class is dog)\n",
    "\n",
    "**The problem we run into with binary classification is that anything that isn't a cat is a dog. Or in more real terms everything that isn't a positive class is the negative class - even if it is neither.** \n",
    "> This is where we turn this problem into a multi-class one, adding a third option/class.\n",
    "\n",
    "First let's see what BCE does. This is the equation when **the positive class is 1**. \n",
    "> (we run into some small problems if the positive class is 0 ; ie. we are punishing the correct answers)\n",
    "\n",
    "$$BCE(T_i, s_i)  =  - \\frac{1}{n} \\sum_{i=1}^{n}(T_i * log(p_i) + (1 - T_i) * log(1 - p_i))$$\n",
    "\n",
    "Loss for one example/sample is :\n",
    "\n",
    "$$BCE(truth, prediction) = (loss\\ for\\ C_1\\ + loss\\ for\\ C_2)$$\n",
    "\n",
    "$loss\\ for\\ C_1 = T_i * log(s_i)$\n",
    "\n",
    "$loss\\ for\\ C_2 = (1 - T_i) * log(1 - s_i)$\n",
    "\n",
    "$T_i$ : truth ; binary value (either 1 or a 0)\n",
    "> respresents the \"class\" of the example\n",
    "\n",
    "$s_i$ : propability ; between 0 and 1 (closer it is to 1 the more the model thinks the sample belongs into the positive class)\n",
    "> how confident is the model that the example belongs in the positive class\n",
    "\n",
    "<br>\n",
    "\n",
    "- when $T_i$ = 0 ; only loss for $C_2$ ; loss for $C_1$ falls off because we multiply it by 0\n",
    "\n",
    "> $(1 - T_i)$ to $(1 - 0) = 1$, this changes nothing when truth is 0\n",
    "\n",
    "$$1 * log(1 - s_i)$$ \n",
    "\n",
    "<br>\n",
    "\n",
    "- when $y_i$ = 1 ; only loss for $C_1$ ; loss for $ C_2 $ falls of because we multiply it by 0, \n",
    "<br> $(1 - T_i) $ to $ (1 - 1) = 0$\n",
    "\n",
    "> $y_i * something$ to $1 * something$ ; changes nothing \n",
    "\n",
    "$$1 * log(s_i)$$\n",
    "\n",
    "We are left with logarthims of our models predictions.\n",
    "\n",
    "Ideally the value sent to the log function should be high in both cases.\n",
    "If the truth is 1 then the model should output a high value ($\\hat{y}_i$ = 0.9+), but if the truth is 0 then the model should output a low value ($\\hat{y}_i$ = 0.1-). But because the positive class is 1 what we send to log when truth is not the positive class(0) is $(1-0.1) = 0.9$ (a high value) - making the loss really small because the prediction is correct even if the models output isn't high.\n"
   ]
  },
  {
   "cell_type": "code",
   "execution_count": 4,
   "metadata": {},
   "outputs": [],
   "source": [
    "def BCE(truth, prediction):\n",
    "        return -np.mean(truth * np.log(prediction) + (1 - truth) * np.log(1 - prediction))"
   ]
  },
  {
   "cell_type": "code",
   "execution_count": 5,
   "metadata": {},
   "outputs": [],
   "source": [
    "# Example usage:\n",
    "training_dataset = np.array([0, 1, 1, 0, 1])\n",
    "\n",
    "bad_predictions = np.array([0.9, 0.3, 0.5, 0.1, 0.1])\n",
    "good_predictitons = np.array([0.1, 0.9, 0.8, 0.1, 0.9])"
   ]
  },
  {
   "cell_type": "code",
   "execution_count": 9,
   "metadata": {},
   "outputs": [
    {
     "name": "stdout",
     "output_type": "stream",
     "text": [
      "Loss with BAD predictions: 1.3215301373063597\n",
      "Loss with GOOD predictions: 0.12891712278910297\n"
     ]
    }
   ],
   "source": [
    "print(\"Loss with BAD predictions:\", BCE(training_dataset, bad_predictions))\n",
    "print(\"Loss with GOOD predictions:\", BCE(training_dataset, good_predictitons))"
   ]
  },
  {
   "cell_type": "markdown",
   "metadata": {},
   "source": [
    "- graph when truth is always 1 ; $ T $ = 1"
   ]
  },
  {
   "cell_type": "code",
   "execution_count": 24,
   "metadata": {},
   "outputs": [],
   "source": [
    "#values from 0.1 to 0.99.. (all possible predictions)\n",
    "predictions = np.linspace(0.01, 0.99, 100) \n",
    "\n",
    "#all ones - truth is always 1\n",
    "truth_labels = np.ones_like(predictions)\n",
    "\n",
    "loss_for_each_prediction = []\n",
    "\n",
    "for truth,prediction in zip(truth_labels, predictions):\n",
    "    loss_for_each_prediction.append(BCE(truth, prediction)) "
   ]
  },
  {
   "cell_type": "code",
   "execution_count": 25,
   "metadata": {},
   "outputs": [
    {
     "data": {
      "image/png": "[encoded data removed]",
      "text/plain": [
       "<Figure size 640x480 with 1 Axes>"
      ]
     },
     "metadata": {},
     "output_type": "display_data"
    }
   ],
   "source": [
    "plt.plot(predictions, loss_for_each_prediction)\n",
    "plt.draw()"
   ]
  },
  {
   "cell_type": "markdown",
   "metadata": {},
   "source": [
    "### Categorical Cross-Entropy (CCE) - Softmax Loss\n",
    "\n",
    "> commonly used in multi-class classification tasks (1 or 2 or 3 .. ?)\n",
    "\n",
    "When we have more than two classes or categories that our samples can have we use Categorical CE.\n",
    "\n",
    "Here each example can belong to one class. The model predictions are withing vector(a 1D array), where each index presents a class and the value on that index the propability of the example belonging to that class.\n",
    "\n",
    "> So let's expand on the binary dog/cat prediction model and make it multi-class by also being able to predict if there is a bird on an image. \n",
    "<br> Each category is associated with an index in a vector : dog = 0, cat = 1, bird = 2 so the array for EACH sample looks something like: [0.2, 0.1, 0.9]. (when testing the truths are also provided with a vector of the same size as the number of classes - so [0,0,1])\n",
    "<br> The **max** value inside an array is the prediced class - in this case 0.9 at the index 2 - bird.\n"
   ]
  },
  {
   "cell_type": "markdown",
   "metadata": {},
   "source": [
    ">This  calculates the cross-entropy for each element of a given array (each pair of [truth, prediction] - predictions where truth is 0 - as in not a relevant class are also 0 result in the sum of only the losses of the relevant guesses)\n",
    "\n",
    "\n",
    "$$ \\text{CCE}(T, p) = - \\sum_{i=1}^{C} T_i \\cdot \\log(p_i) $$\n",
    "\n"
   ]
  },
  {
   "cell_type": "code",
   "execution_count": 70,
   "metadata": {},
   "outputs": [],
   "source": [
    "def CCE(truth_labels, predictions):\n",
    "    return -np.sum(truth_labels * np.log(predictions+1e-15))"
   ]
  },
  {
   "cell_type": "markdown",
   "metadata": {},
   "source": [
    "## True Cross-Entropy\n",
    "\n",
    "When there is more than one instance in a batch(ie. multiple pairs of truth vector - prediction vector we sum up the loss for each) - we also divide it by the numbr of samples.\n",
    "\n",
    "$$ \\text{CCE}(T, p) = -\\frac{1}{N} \\sum_{n=1}^{N} \\sum_{i=1}^{C} T_i \\cdot \\log_2(p_i) $$\n",
    "\n",
    "$ N $ = number of samples (ie. pairs of truth vector and prediction vector)\n",
    "\n",
    "$ C $ = number of classes - size of a vector (how many elements in each ?)"
   ]
  },
  {
   "cell_type": "code",
   "execution_count": 67,
   "metadata": {},
   "outputs": [],
   "source": [
    "#here truth lables is a 2 dimensional vector - and so are the predictions\n",
    "def tCCE(truth_labels, predictions):\n",
    "    return -(1/len(truth_labels))*np.sum(truth_labels * np.log(predictions+1e-15))"
   ]
  },
  {
   "cell_type": "code",
   "execution_count": 71,
   "metadata": {},
   "outputs": [
    {
     "name": "stdout",
     "output_type": "stream",
     "text": [
      "Loss with BAD predictions: 2.3025850929940357\n",
      "Loss with GOOOD predictions: 0.10536051565782517\n"
     ]
    }
   ],
   "source": [
    "# Example usage ; 3 classes\n",
    "\n",
    "bad_sample = { 'truth': [1,0,0], 'prediction':[0.1, 0.76,0.8] } # bad\n",
    "good_sample = {'truth': [0, 1, 0], 'prediction': [0.1, 0.9, 0]} # good\n",
    "\n",
    "\n",
    "# just the cce loss for each prediction\n",
    "loss_bad_preds = CCE(\n",
    "    truth_labels=np.array(bad_sample['truth']), \n",
    "    predictions= np.array(bad_sample['prediction'])) \n",
    "\n",
    "print(\"Loss with BAD predictions:\", loss_bad_preds)\n",
    "\n",
    "loss_good_preds = CCE(\n",
    "    truth_labels=np.array(good_sample['truth']), \n",
    "    predictions=np.array(good_sample['prediction']))\n",
    "    \n",
    "print(\"Loss with GOOOD predictions:\", loss_good_preds) "
   ]
  },
  {
   "cell_type": "code",
   "execution_count": 64,
   "metadata": {},
   "outputs": [
    {
     "name": "stdout",
     "output_type": "stream",
     "text": [
      "Loss for the model:  0.8026485362172869\n"
     ]
    }
   ],
   "source": [
    "#both(all) truth arrays\n",
    "truth_labels = \n",
    "\n",
    "print(\"Loss for the model: \", tCCE())"
   ]
  },
  {
   "cell_type": "markdown",
   "metadata": {},
   "source": []
  }
 ],
 "metadata": {
  "kernelspec": {
   "display_name": "pytorch",
   "language": "python",
   "name": "python3"
  },
  "language_info": {
   "codemirror_mode": {
    "name": "ipython",
    "version": 3
   },
   "file_extension": ".py",
   "mimetype": "text/x-python",
   "name": "python",
   "nbconvert_exporter": "python",
   "pygments_lexer": "ipython3",
   "version": "3.11.5"
  }
 },
 "nbformat": 4,
 "nbformat_minor": 2
}
