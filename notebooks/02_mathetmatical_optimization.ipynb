{
 "cells": [
  {
   "cell_type": "markdown",
   "metadata": {},
   "source": [
    "### Functions "
   ]
  },
  {
   "cell_type": "markdown",
   "metadata": {},
   "source": []
  },
  {
   "cell_type": "code",
   "execution_count": null,
   "metadata": {},
   "outputs": [],
   "source": []
  },
  {
   "cell_type": "markdown",
   "metadata": {},
   "source": [
    "| |   |\n",
    "|---|---|\n",
    "| iterative algorithm |   |\n",
    "| univariate function | function that takes in only one paramter (x)  |\n",
    "| multivariate function | function that takes in more than one argument/parameter (x, y)  |\n",
    "| |   |"
   ]
  },
  {
   "cell_type": "markdown",
   "metadata": {},
   "source": [
    "|||\n",
    "|---|---|\n",
    "| vector | quantity that has both magnitude(size) and direction(from point A to B) <br>; usually visualized as an arrow |\n",
    "| vector field | space - where each point is a vector  |\n",
    "| local minimum |   |\n",
    "| |   |"
   ]
  },
  {
   "cell_type": "markdown",
   "metadata": {},
   "source": [
    "| |   |\n",
    "|---|---|\n",
    "| derivative |  steepness of an univeriate function at a point |\n",
    "| gradient| steepness of an multivariate function at a point   |\n",
    "| |   |"
   ]
  },
  {
   "cell_type": "markdown",
   "metadata": {},
   "source": [
    "# Gradient descent"
   ]
  },
  {
   "cell_type": "markdown",
   "metadata": {},
   "source": [
    "\n",
    "\n",
    "In general (as in in optimization mathematics) gradient descent is used to minimize a function. It does this by going into the direction of steepest descent. (where the loss is the lowest).\n",
    "\n"
   ]
  },
  {
   "cell_type": "markdown",
   "metadata": {},
   "source": [
    "## Stochastic Gradient Descent (SGD)\n",
    "\n",
    "Stochastic Gradient Descent is a variant of gradient descent."
   ]
  }
 ],
 "metadata": {
  "kernelspec": {
   "display_name": "pytorch",
   "language": "python",
   "name": "python3"
  },
  "language_info": {
   "codemirror_mode": {
    "name": "ipython",
    "version": 3
   },
   "file_extension": ".py",
   "mimetype": "text/x-python",
   "name": "python",
   "nbconvert_exporter": "python",
   "pygments_lexer": "ipython3",
   "version": "3.11.5"
  }
 },
 "nbformat": 4,
 "nbformat_minor": 2
}
