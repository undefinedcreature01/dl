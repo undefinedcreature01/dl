{
 "cells": [
  {
   "cell_type": "markdown",
   "metadata": {},
   "source": [
    "### Functions "
   ]
  },
  {
   "cell_type": "markdown",
   "metadata": {},
   "source": [
    "| |   |\n",
    "|---|---|\n",
    "| iterative algorithm |   |\n",
    "| univariate function | function that takes in only one paramter (x)  |\n",
    "| multivariate function | function that takes in more than one argument/parameter (x, y)  |\n",
    "| |   |"
   ]
  },
  {
   "cell_type": "markdown",
   "metadata": {},
   "source": [
    "|||\n",
    "|---|---|\n",
    "| vector | quantity that has both magnitude(size) and direction(from point A to B) <br>; usually visualized as an arrow |\n",
    "| vector field | space - where each point is a vector  |\n",
    "| local minimum |   |\n",
    "| |   |"
   ]
  },
  {
   "cell_type": "markdown",
   "metadata": {},
   "source": [
    "| |   |\n",
    "|---|---|\n",
    "| derivative |  steepness of an univeriate function at a point |\n",
    "| gradient| steepness of an multivariate function at a point   |\n",
    "| |   |"
   ]
  },
  {
   "cell_type": "markdown",
   "metadata": {},
   "source": [
    "# Gradient descent"
   ]
  },
  {
   "cell_type": "markdown",
   "metadata": {},
   "source": [
    "\n",
    "\n",
    "In general (as in in optimization mathematics) gradient descent is used to minimize a function. It does this by going into the direction of steepest descent. (where the loss is the lowest).\n"
   ]
  },
  {
   "cell_type": "markdown",
   "metadata": {},
   "source": [
    "<img src=\"../assets/gradient_descent_01.jpg\" height=\"400px\" width=\"680px\">\n",
    "\n",
    ">[! image source !](https://blog.gopenai.com/understanding-of-gradient-descent-intuition-and-implementation-b1f98b3645ea)"
   ]
  },
  {
   "cell_type": "markdown",
   "metadata": {},
   "source": [
    "<img src=\"../assets/gradient_descent_02.png\" height=\"400px\" width=\"680px\">\n",
    "\n",
    ">[! image source !](https://primo.ai/index.php?title=Gradient_Descent_Optimization_%26_Challenges)"
   ]
  },
  {
   "cell_type": "markdown",
   "metadata": {},
   "source": [
    "## Stochastic Gradient Descent (SGD)\n",
    "\n",
    "Stochastic Gradient Descent is a variant of gradient descent. It introduces the concept of learning rate (ie. how big of a step does it take in each iteration)\n",
    "\n",
    "SGD maintains a single learning rate for all parameters."
   ]
  },
  {
   "cell_type": "markdown",
   "metadata": {},
   "source": [
    "<img src=\"../assets/SGD.png\" height=\"400px\" width=\"680px\">\n",
    "\n",
    ">[! image source !](https://www.researchgate.net/figure/Stochastic-Gradient-Descent_fig4_344544069)\n"
   ]
  },
  {
   "cell_type": "markdown",
   "metadata": {},
   "source": [
    "## Adaptive Gradient (AdaGrad)\n"
   ]
  },
  {
   "cell_type": "markdown",
   "metadata": {},
   "source": [
    "It adapts the learning rate for each parameter based on the historical/previous gradients observed during training. It maintains a separate learning rate for each parameter."
   ]
  },
  {
   "cell_type": "markdown",
   "metadata": {},
   "source": [
    "# Root Mean Square Propagation (RMSprop)"
   ]
  },
  {
   "cell_type": "markdown",
   "metadata": {},
   "source": [
    "\n",
    "- Gradient Accumulation: \n",
    "\n",
    "At each iteration of training, RMSprop computes the gradient of the loss function with relative to model parameters.\n"
   ]
  },
  {
   "cell_type": "markdown",
   "metadata": {},
   "source": [
    "# Adaptive Moment Estimation (Adam)"
   ]
  },
  {
   "cell_type": "markdown",
   "metadata": {},
   "source": [
    "Adam combines the benefits of two other popular optimization algorithms: AdaGrad and RMSProp."
   ]
  }
 ],
 "metadata": {
  "kernelspec": {
   "display_name": "pytorch",
   "language": "python",
   "name": "python3"
  },
  "language_info": {
   "codemirror_mode": {
    "name": "ipython",
    "version": 3
   },
   "file_extension": ".py",
   "mimetype": "text/x-python",
   "name": "python",
   "nbconvert_exporter": "python",
   "pygments_lexer": "ipython3",
   "version": "3.11.5"
  }
 },
 "nbformat": 4,
 "nbformat_minor": 2
}
